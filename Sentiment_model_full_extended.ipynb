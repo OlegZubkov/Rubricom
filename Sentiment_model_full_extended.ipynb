{
  "nbformat": 4,
  "nbformat_minor": 0,
  "metadata": {
    "kernelspec": {
      "display_name": "Python 3",
      "language": "python",
      "name": "python3"
    },
    "language_info": {
      "codemirror_mode": {
        "name": "ipython",
        "version": 3
      },
      "file_extension": ".py",
      "mimetype": "text/x-python",
      "name": "python",
      "nbconvert_exporter": "python",
      "pygments_lexer": "ipython3",
      "version": "3.8.5"
    },
    "colab": {
      "name": "Sentiment model_full_extended_cleaned.ipynb",
      "provenance": [],
      "collapsed_sections": []
    },
    "accelerator": "GPU"
  },
  "cells": [
    {
      "cell_type": "markdown",
      "metadata": {
        "id": "YcNXZVhXS2Gr"
      },
      "source": [
        "# Libraries import"
      ]
    },
    {
      "cell_type": "code",
      "metadata": {
        "id": "CjGb6x-Ah1Cq"
      },
      "source": [
        "import pandas as pd\n",
        "import numpy as np\n",
        "import matplotlib.pyplot as plt\n",
        "import nltk\n",
        "import tensorflow as tf\n",
        "\n",
        "from sklearn.feature_extraction.text import TfidfVectorizer, CountVectorizer\n",
        "from sklearn.preprocessing import LabelEncoder\n",
        "from sklearn.model_selection import train_test_split\n",
        "from nltk.stem import WordNetLemmatizer\n",
        "from nltk.tokenize import word_tokenize\n",
        "from keras import backend as K"
      ],
      "execution_count": 1,
      "outputs": []
    },
    {
      "cell_type": "markdown",
      "metadata": {
        "id": "seth2SeuS-x7"
      },
      "source": [
        "NLTK data that must be downloaded only once"
      ]
    },
    {
      "cell_type": "code",
      "metadata": {
        "id": "op8IehSIS9De",
        "colab": {
          "base_uri": "https://localhost:8080/"
        },
        "outputId": "a85bc234-b240-4950-cbb0-436d94f8c807"
      },
      "source": [
        "# nltk.download('wordnet')\n",
        "# nltk.download('punkt')"
      ],
      "execution_count": 2,
      "outputs": [
        {
          "output_type": "stream",
          "text": [
            "[nltk_data] Downloading package wordnet to /root/nltk_data...\n",
            "[nltk_data]   Unzipping corpora/wordnet.zip.\n",
            "[nltk_data] Downloading package punkt to /root/nltk_data...\n",
            "[nltk_data]   Unzipping tokenizers/punkt.zip.\n"
          ],
          "name": "stdout"
        },
        {
          "output_type": "execute_result",
          "data": {
            "text/plain": [
              "True"
            ]
          },
          "metadata": {
            "tags": []
          },
          "execution_count": 2
        }
      ]
    },
    {
      "cell_type": "markdown",
      "metadata": {
        "id": "2inhyeVmG_tS"
      },
      "source": [
        "# Dataset with review loading"
      ]
    },
    {
      "cell_type": "code",
      "metadata": {
        "colab": {
          "base_uri": "https://localhost:8080/"
        },
        "id": "YVCGabVwiETU",
        "outputId": "672ac583-bdf7-4690-a8bf-034a1f2a64e6"
      },
      "source": [
        "from google.colab import drive\n",
        "drive.mount('/content/drive')"
      ],
      "execution_count": 3,
      "outputs": [
        {
          "output_type": "stream",
          "text": [
            "Mounted at /content/drive\n"
          ],
          "name": "stdout"
        }
      ]
    },
    {
      "cell_type": "code",
      "metadata": {
        "id": "YbYiNhIDh1Ct"
      },
      "source": [
        "df_full = pd.read_csv('/content/drive/MyDrive/Sentiment model based on phones review/phones.csv')"
      ],
      "execution_count": 4,
      "outputs": []
    },
    {
      "cell_type": "code",
      "metadata": {
        "colab": {
          "base_uri": "https://localhost:8080/",
          "height": 195
        },
        "id": "_U5SAYo4nen6",
        "outputId": "5ee966f8-dfff-4978-ec6f-a967c6fdd9d9"
      },
      "source": [
        "df_full.head(5)"
      ],
      "execution_count": 5,
      "outputs": [
        {
          "output_type": "execute_result",
          "data": {
            "text/html": [
              "<div>\n",
              "<style scoped>\n",
              "    .dataframe tbody tr th:only-of-type {\n",
              "        vertical-align: middle;\n",
              "    }\n",
              "\n",
              "    .dataframe tbody tr th {\n",
              "        vertical-align: top;\n",
              "    }\n",
              "\n",
              "    .dataframe thead th {\n",
              "        text-align: right;\n",
              "    }\n",
              "</style>\n",
              "<table border=\"1\" class=\"dataframe\">\n",
              "  <thead>\n",
              "    <tr style=\"text-align: right;\">\n",
              "      <th></th>\n",
              "      <th>Review</th>\n",
              "      <th>Rating</th>\n",
              "    </tr>\n",
              "  </thead>\n",
              "  <tbody>\n",
              "    <tr>\n",
              "      <th>0</th>\n",
              "      <td>3D Touch просто восхитительная вещь! Заряд дер...</td>\n",
              "      <td>5</td>\n",
              "    </tr>\n",
              "    <tr>\n",
              "      <th>1</th>\n",
              "      <td>Отключается при температуре близкой к нулю, не...</td>\n",
              "      <td>4</td>\n",
              "    </tr>\n",
              "    <tr>\n",
              "      <th>2</th>\n",
              "      <td>В Apple окончательно решили не заморачиваться,...</td>\n",
              "      <td>3</td>\n",
              "    </tr>\n",
              "    <tr>\n",
              "      <th>3</th>\n",
              "      <td>Постарался наиболее ёмко и коротко описать все...</td>\n",
              "      <td>4</td>\n",
              "    </tr>\n",
              "    <tr>\n",
              "      <th>4</th>\n",
              "      <td>Достойный телефон. Пользоваться одно удовольст...</td>\n",
              "      <td>5</td>\n",
              "    </tr>\n",
              "  </tbody>\n",
              "</table>\n",
              "</div>"
            ],
            "text/plain": [
              "                                              Review  Rating\n",
              "0  3D Touch просто восхитительная вещь! Заряд дер...       5\n",
              "1  Отключается при температуре близкой к нулю, не...       4\n",
              "2  В Apple окончательно решили не заморачиваться,...       3\n",
              "3  Постарался наиболее ёмко и коротко описать все...       4\n",
              "4  Достойный телефон. Пользоваться одно удовольст...       5"
            ]
          },
          "metadata": {
            "tags": []
          },
          "execution_count": 5
        }
      ]
    },
    {
      "cell_type": "markdown",
      "metadata": {
        "id": "iepvvTXuHNP4"
      },
      "source": [
        "# Cleaning the dataset"
      ]
    },
    {
      "cell_type": "code",
      "metadata": {
        "colab": {
          "base_uri": "https://localhost:8080/"
        },
        "id": "VrCxMcQNnSiN",
        "outputId": "34fbb078-88f7-4e34-b2b2-567cd154baf2"
      },
      "source": [
        "df_full['Rating'].value_counts()"
      ],
      "execution_count": 6,
      "outputs": [
        {
          "output_type": "execute_result",
          "data": {
            "text/plain": [
              "5    228517\n",
              "4    106568\n",
              "3     53091\n",
              "2     35724\n",
              "1     34529\n",
              "0         2\n",
              "9         1\n",
              "7         1\n",
              "Name: Rating, dtype: int64"
            ]
          },
          "metadata": {
            "tags": []
          },
          "execution_count": 6
        }
      ]
    },
    {
      "cell_type": "markdown",
      "metadata": {
        "id": "djQ2EEx6TYMU"
      },
      "source": [
        "Deleting rows with Rating more than 5 and lower than 1"
      ]
    },
    {
      "cell_type": "code",
      "metadata": {
        "id": "pcaV0npNn64o"
      },
      "source": [
        "df_full = df_full.drop(df_full[df_full.Rating < 1].index)\n",
        "df_full = df_full.drop(df_full[df_full.Rating > 5].index)"
      ],
      "execution_count": 7,
      "outputs": []
    },
    {
      "cell_type": "markdown",
      "metadata": {
        "id": "FlCmJ6n4Hi4H"
      },
      "source": [
        "# Loading dataset that made from sample of reviews from marketplace"
      ]
    },
    {
      "cell_type": "code",
      "metadata": {
        "id": "5X3y5wRr6uxd"
      },
      "source": [
        "df_extended = pd.read_csv('/content/drive/MyDrive/Sentiment model based on phones review/all_data.csv')"
      ],
      "execution_count": 8,
      "outputs": []
    },
    {
      "cell_type": "code",
      "metadata": {
        "id": "l0go2iKi6uuO"
      },
      "source": [
        "df_extended = df_extended.drop(columns=['date_time', 'color', 'size', 'thumb_up', 'thumb_down', 'prod', 'brand']).rename(columns={'comment':'Review', 'prod_eval':'Rating'})"
      ],
      "execution_count": 9,
      "outputs": []
    },
    {
      "cell_type": "markdown",
      "metadata": {
        "id": "3xvrPWkqTRrK"
      },
      "source": [
        "Rating checking"
      ]
    },
    {
      "cell_type": "code",
      "metadata": {
        "colab": {
          "base_uri": "https://localhost:8080/"
        },
        "id": "IK06HnPB6un4",
        "outputId": "a252b334-48f2-4cd8-c29c-7cff717f89a8"
      },
      "source": [
        "df_extended['Rating'].value_counts()"
      ],
      "execution_count": 10,
      "outputs": [
        {
          "output_type": "execute_result",
          "data": {
            "text/plain": [
              "5    171131\n",
              "1     16022\n",
              "4     14504\n",
              "3     10650\n",
              "2      6252\n",
              "Name: Rating, dtype: int64"
            ]
          },
          "metadata": {
            "tags": []
          },
          "execution_count": 10
        }
      ]
    },
    {
      "cell_type": "markdown",
      "metadata": {
        "id": "a-v_kKbWHzSq"
      },
      "source": [
        "# Concatenation of datasets"
      ]
    },
    {
      "cell_type": "code",
      "metadata": {
        "id": "IubhFyTZnPVv"
      },
      "source": [
        "df = pd.concat([df_full, df_extended]).drop_duplicates().reset_index().drop('index', axis = 1)"
      ],
      "execution_count": 11,
      "outputs": []
    },
    {
      "cell_type": "code",
      "metadata": {
        "id": "qW_DSXhxh1Cw"
      },
      "source": [
        "df['Review'] = df['Review'].astype('str')"
      ],
      "execution_count": 12,
      "outputs": []
    },
    {
      "cell_type": "markdown",
      "metadata": {
        "id": "-WuoRJ22H7O0"
      },
      "source": [
        "# Converting grades to Positive / Negative view and encoding"
      ]
    },
    {
      "cell_type": "code",
      "metadata": {
        "id": "ok8U5IKbh1Cw"
      },
      "source": [
        "df['Sentiment'] = np.where(df['Rating'] >= 4, 'Positive', 'Negative')"
      ],
      "execution_count": 13,
      "outputs": []
    },
    {
      "cell_type": "code",
      "metadata": {
        "id": "LRmkygvCh1Cu"
      },
      "source": [
        "le = LabelEncoder()\n",
        "df['sentiment_encoded'] = le.fit_transform(df['Sentiment'])"
      ],
      "execution_count": 14,
      "outputs": []
    },
    {
      "cell_type": "code",
      "metadata": {
        "colab": {
          "base_uri": "https://localhost:8080/"
        },
        "id": "VxIKLl_-XQgp",
        "outputId": "65459fbf-7332-4823-8871-8fd8f5250934"
      },
      "source": [
        "df['Sentiment'].value_counts()"
      ],
      "execution_count": 15,
      "outputs": [
        {
          "output_type": "execute_result",
          "data": {
            "text/plain": [
              "Positive    395855\n",
              "Negative    115070\n",
              "Name: Sentiment, dtype: int64"
            ]
          },
          "metadata": {
            "tags": []
          },
          "execution_count": 15
        }
      ]
    },
    {
      "cell_type": "markdown",
      "metadata": {
        "id": "GWcFANB9JMTo"
      },
      "source": [
        "# Lemmatiation and tokenization of comments using NLTK library"
      ]
    },
    {
      "cell_type": "code",
      "metadata": {
        "id": "MdswEH5xKFPN"
      },
      "source": [
        "def preprocessing_for_sent(df):\n",
        "    '''\n",
        "    The function lemmatizes and tokenizes reviews from dataset\n",
        "    '''\n",
        "    wn_lemmatizer = WordNetLemmatizer()\n",
        "    lemmatized_text_for_sen = []\n",
        "    for comment in df['Review']:\n",
        "        lemmatized_text_for_sen.append(' '.join([wn_lemmatizer.lemmatize(word) for word in comment.split()]))\n",
        "    \n",
        "    for i in range(len(lemmatized_text_for_sen)):\n",
        "        lemmatized_text_for_sen[i] = word_tokenize(lemmatized_text_for_sen[i])\n",
        "    clean_tokenized_comment = [] \n",
        "    for i, element in enumerate(lemmatized_text_for_sen):\n",
        "        clean_tokenized_comment.append(' '.join([word for word in element]))    \n",
        "    return pd.Series(clean_tokenized_comment)"
      ],
      "execution_count": 16,
      "outputs": []
    },
    {
      "cell_type": "code",
      "metadata": {
        "id": "HACdb8hZl1It"
      },
      "source": [
        "new_review = preprocessing_for_sent(df)"
      ],
      "execution_count": 17,
      "outputs": []
    },
    {
      "cell_type": "code",
      "metadata": {
        "id": "JHS18YUyl4OV"
      },
      "source": [
        "df_cleaned = pd.concat([new_review, df.sentiment_encoded], axis=1).rename(columns={0:'Review', 'sentiment_encoded':'Sentiment'})"
      ],
      "execution_count": 18,
      "outputs": []
    },
    {
      "cell_type": "markdown",
      "metadata": {
        "id": "KN2XCGnuMdbe"
      },
      "source": [
        "# Training the model"
      ]
    },
    {
      "cell_type": "markdown",
      "metadata": {
        "id": "GvVKCYQ4U2YN"
      },
      "source": [
        "Functions for metrics calculation"
      ]
    },
    {
      "cell_type": "code",
      "metadata": {
        "id": "CaQNXj3zRUXM"
      },
      "source": [
        "def recall_m(y_true, y_pred):\n",
        "    true_positives = K.sum(K.round(K.clip(y_true * y_pred, 0, 1)))\n",
        "    possible_positives = K.sum(K.round(K.clip(y_true, 0, 1)))\n",
        "    recall = true_positives / (possible_positives + K.epsilon())\n",
        "    return recall\n",
        "\n",
        "def precision_m(y_true, y_pred):\n",
        "    true_positives = K.sum(K.round(K.clip(y_true * y_pred, 0, 1)))\n",
        "    predicted_positives = K.sum(K.round(K.clip(y_pred, 0, 1)))\n",
        "    precision = true_positives / (predicted_positives + K.epsilon())\n",
        "    return precision\n",
        "\n",
        "def f1_m(y_true, y_pred):\n",
        "    precision = precision_m(y_true, y_pred)\n",
        "    recall = recall_m(y_true, y_pred)\n",
        "    return 2*((precision*recall)/(precision+recall+K.epsilon()))"
      ],
      "execution_count": 19,
      "outputs": []
    },
    {
      "cell_type": "markdown",
      "metadata": {
        "id": "BnW-b9vNUXad"
      },
      "source": [
        "Function for plot with metrics displaying"
      ]
    },
    {
      "cell_type": "code",
      "metadata": {
        "id": "bkvxf91xmFRB"
      },
      "source": [
        "def plot_graphs(history, metric):\n",
        "  plt.plot(history.history[metric])\n",
        "  plt.plot(history.history['val_'+metric], '')\n",
        "  plt.xlabel(\"Epochs\")\n",
        "  plt.ylabel(metric)\n",
        "  plt.legend([metric, 'val_'+metric])"
      ],
      "execution_count": 20,
      "outputs": []
    },
    {
      "cell_type": "markdown",
      "metadata": {
        "id": "vg3t3fLFUdmL"
      },
      "source": [
        "Test-train split"
      ]
    },
    {
      "cell_type": "code",
      "metadata": {
        "id": "DKY69_symJZu"
      },
      "source": [
        "x_train, x_valid, y_train, y_valid = train_test_split(df_cleaned.Review, df_cleaned.Sentiment, test_size = 0.15)"
      ],
      "execution_count": 21,
      "outputs": []
    },
    {
      "cell_type": "markdown",
      "metadata": {
        "id": "mpZUAVFOUjZB"
      },
      "source": [
        "Model's parameters setting"
      ]
    },
    {
      "cell_type": "code",
      "metadata": {
        "id": "UTPAbHgUmMpb"
      },
      "source": [
        "VOCAB_SIZE = 30000\n",
        "BATCH_SIZE = 64\n",
        "encoder = tf.keras.layers.experimental.preprocessing.TextVectorization(max_tokens=VOCAB_SIZE)\n",
        "encoder.adapt(x_train.values)\n",
        "vocab = np.array(encoder.get_vocabulary())"
      ],
      "execution_count": 22,
      "outputs": []
    },
    {
      "cell_type": "markdown",
      "metadata": {
        "id": "DFFYIj4jUwcQ"
      },
      "source": [
        "Model architecture setting and compiling"
      ]
    },
    {
      "cell_type": "code",
      "metadata": {
        "id": "vVvQ1RprmPLF"
      },
      "source": [
        "model = tf.keras.Sequential([\n",
        "    encoder,\n",
        "    tf.keras.layers.Embedding(\n",
        "        input_dim=len(encoder.get_vocabulary()),\n",
        "        output_dim=64,\n",
        "        mask_zero=True),\n",
        "    tf.keras.layers.Bidirectional(tf.keras.layers.LSTM(64, return_sequences=True)),\n",
        "    tf.keras.layers.Bidirectional(tf.keras.layers.LSTM(64, )),\n",
        "    tf.keras.layers.Dense(64, activation='relu'),\n",
        "    tf.keras.layers.Dense(1, activation='sigmoid')\n",
        "])"
      ],
      "execution_count": 23,
      "outputs": []
    },
    {
      "cell_type": "code",
      "metadata": {
        "id": "K4_1lCbImSWq"
      },
      "source": [
        "model.compile(loss=tf.keras.losses.BinaryCrossentropy(),\n",
        "              optimizer=tf.keras.optimizers.Adam(0.001),\n",
        "              metrics=['accuracy', tf.keras.metrics.BinaryAccuracy(), \n",
        "                       f1_m, recall_m, precision_m\n",
        "                       ])"
      ],
      "execution_count": 24,
      "outputs": []
    },
    {
      "cell_type": "markdown",
      "metadata": {
        "id": "3Co581q6VDK2"
      },
      "source": [
        "Model training"
      ]
    },
    {
      "cell_type": "code",
      "metadata": {
        "colab": {
          "base_uri": "https://localhost:8080/"
        },
        "id": "3TguEzHLmU8a",
        "outputId": "f4fee751-b1fd-4441-ab3d-b20c3cc6cabe"
      },
      "source": [
        "history = model.fit(x=x_train, y=y_train, validation_data=(x_valid, y_valid), epochs=3)"
      ],
      "execution_count": 25,
      "outputs": [
        {
          "output_type": "stream",
          "text": [
            "Epoch 1/3\n",
            "13572/13572 [==============================] - 1180s 85ms/step - loss: 0.2748 - accuracy: 0.8822 - binary_accuracy: 0.8822 - f1_m: 0.9238 - recall_m: 0.9406 - precision_m: 0.9108 - val_loss: 0.2445 - val_accuracy: 0.8943 - val_binary_accuracy: 0.8943 - val_f1_m: 0.9298 - val_recall_m: 0.9231 - val_precision_m: 0.9393\n",
            "Epoch 2/3\n",
            "13572/13572 [==============================] - 1153s 85ms/step - loss: 0.2001 - accuracy: 0.9186 - binary_accuracy: 0.9186 - f1_m: 0.9467 - recall_m: 0.9534 - precision_m: 0.9423 - val_loss: 0.2270 - val_accuracy: 0.9056 - val_binary_accuracy: 0.9056 - val_f1_m: 0.9384 - val_recall_m: 0.9464 - val_precision_m: 0.9329\n",
            "Epoch 3/3\n",
            "13572/13572 [==============================] - 1151s 85ms/step - loss: 0.1525 - accuracy: 0.9399 - binary_accuracy: 0.9399 - f1_m: 0.9606 - recall_m: 0.9651 - precision_m: 0.9577 - val_loss: 0.2325 - val_accuracy: 0.9108 - val_binary_accuracy: 0.9108 - val_f1_m: 0.9418 - val_recall_m: 0.9504 - val_precision_m: 0.9356\n"
          ],
          "name": "stdout"
        }
      ]
    },
    {
      "cell_type": "code",
      "metadata": {
        "colab": {
          "base_uri": "https://localhost:8080/",
          "height": 390
        },
        "id": "vcFNDZkyml9D",
        "outputId": "7d7c23dc-09e6-4bc2-bc9a-da122479732c"
      },
      "source": [
        "plt.figure(figsize=(16, 6))\n",
        "plt.subplot(1, 4, 1)\n",
        "plot_graphs(history, 'accuracy')\n",
        "plt.subplot(1, 4, 2)\n",
        "plot_graphs(history, 'loss')\n",
        "plt.subplot(1, 4, 3)\n",
        "plot_graphs(history, 'binary_accuracy')\n",
        "plt.subplot(1, 4, 4)\n",
        "plot_graphs(history, 'f1_m')"
      ],
      "execution_count": 26,
      "outputs": [
        {
          "output_type": "display_data",
          "data": {
            "image/png": "[encoded data removed]",
            "text/plain": [
              "<Figure size 1152x432 with 4 Axes>"
            ]
          },
          "metadata": {
            "tags": [],
            "needs_background": "light"
          }
        }
      ]
    },
    {
      "cell_type": "markdown",
      "metadata": {
        "id": "WCUf4G5ONmJA"
      },
      "source": [
        "# Model saving"
      ]
    },
    {
      "cell_type": "code",
      "metadata": {
        "colab": {
          "base_uri": "https://localhost:8080/"
        },
        "id": "BZdvWNjXmXKQ",
        "outputId": "32d78f82-b0ce-4777-fcf5-55f4b1693fe2"
      },
      "source": [
        "model.save('/content/drive/MyDrive/Sentiment model based on phones review/Model_full_extended_final')"
      ],
      "execution_count": 27,
      "outputs": [
        {
          "output_type": "stream",
          "text": [
            "WARNING:absl:Found untraced functions such as lstm_cell_1_layer_call_fn, lstm_cell_1_layer_call_and_return_conditional_losses, lstm_cell_2_layer_call_fn, lstm_cell_2_layer_call_and_return_conditional_losses, lstm_cell_4_layer_call_fn while saving (showing 5 of 20). These functions will not be directly callable after loading.\n"
          ],
          "name": "stderr"
        },
        {
          "output_type": "stream",
          "text": [
            "INFO:tensorflow:Assets written to: /content/drive/MyDrive/Sentiment model based on phones review/Model_full_extended_final/assets\n"
          ],
          "name": "stdout"
        },
        {
          "output_type": "stream",
          "text": [
            "INFO:tensorflow:Assets written to: /content/drive/MyDrive/Sentiment model based on phones review/Model_full_extended_final/assets\n"
          ],
          "name": "stderr"
        }
      ]
    }
  ]
}