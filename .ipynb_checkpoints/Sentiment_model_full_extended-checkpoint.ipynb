{
 "cells": [
  {
   "cell_type": "code",
   "execution_count": null,
   "metadata": {
    "id": "CjGb6x-Ah1Cq"
   },
   "outputs": [],
   "source": [
    "import pandas as pd\n",
    "import numpy as np\n",
    "import matplotlib.pyplot as plt\n",
    "import seaborn as sns\n",
    "import nltk\n",
    "from sklearn.feature_extraction.text import TfidfVectorizer, CountVectorizer\n",
    "from sklearn.preprocessing import LabelEncoder\n",
    "\n",
    "import nltk\n",
    "from nltk.stem import WordNetLemmatizer\n",
    "from nltk.tokenize import word_tokenize"
   ]
  },
  {
   "cell_type": "code",
   "execution_count": null,
   "metadata": {
    "colab": {
     "base_uri": "https://localhost:8080/"
    },
    "id": "YVCGabVwiETU",
    "outputId": "e005ed22-592f-4dea-8269-199b8ec98b79"
   },
   "outputs": [
    {
     "name": "stdout",
     "output_type": "stream",
     "text": [
      "Mounted at /content/drive\n"
     ]
    }
   ],
   "source": [
    "from google.colab import drive\n",
    "drive.mount('/content/drive')"
   ]
  },
  {
   "cell_type": "code",
   "execution_count": null,
   "metadata": {
    "id": "YbYiNhIDh1Ct"
   },
   "outputs": [],
   "source": [
    "df_full = pd.read_csv('/content/drive/MyDrive/Sentiment model based on phones review/phones.csv')"
   ]
  },
  {
   "cell_type": "code",
   "execution_count": null,
   "metadata": {
    "colab": {
     "base_uri": "https://localhost:8080/",
     "height": 195
    },
    "id": "_U5SAYo4nen6",
    "outputId": "882e0e5a-fbfe-4c3a-9a5b-85c03658ae16"
   },
   "outputs": [
    {
     "data": {
      "text/html": [
       "<div>\n",
       "<style scoped>\n",
       "    .dataframe tbody tr th:only-of-type {\n",
       "        vertical-align: middle;\n",
       "    }\n",
       "\n",
       "    .dataframe tbody tr th {\n",
       "        vertical-align: top;\n",
       "    }\n",
       "\n",
       "    .dataframe thead th {\n",
       "        text-align: right;\n",
       "    }\n",
       "</style>\n",
       "<table border=\"1\" class=\"dataframe\">\n",
       "  <thead>\n",
       "    <tr style=\"text-align: right;\">\n",
       "      <th></th>\n",
       "      <th>Review</th>\n",
       "      <th>Rating</th>\n",
       "    </tr>\n",
       "  </thead>\n",
       "  <tbody>\n",
       "    <tr>\n",
       "      <th>0</th>\n",
       "      <td>3D Touch просто восхитительная вещь! Заряд дер...</td>\n",
       "      <td>5</td>\n",
       "    </tr>\n",
       "    <tr>\n",
       "      <th>1</th>\n",
       "      <td>Отключается при температуре близкой к нулю, не...</td>\n",
       "      <td>4</td>\n",
       "    </tr>\n",
       "    <tr>\n",
       "      <th>2</th>\n",
       "      <td>В Apple окончательно решили не заморачиваться,...</td>\n",
       "      <td>3</td>\n",
       "    </tr>\n",
       "    <tr>\n",
       "      <th>3</th>\n",
       "      <td>Постарался наиболее ёмко и коротко описать все...</td>\n",
       "      <td>4</td>\n",
       "    </tr>\n",
       "    <tr>\n",
       "      <th>4</th>\n",
       "      <td>Достойный телефон. Пользоваться одно удовольст...</td>\n",
       "      <td>5</td>\n",
       "    </tr>\n",
       "  </tbody>\n",
       "</table>\n",
       "</div>"
      ],
      "text/plain": [
       "                                              Review  Rating\n",
       "0  3D Touch просто восхитительная вещь! Заряд дер...       5\n",
       "1  Отключается при температуре близкой к нулю, не...       4\n",
       "2  В Apple окончательно решили не заморачиваться,...       3\n",
       "3  Постарался наиболее ёмко и коротко описать все...       4\n",
       "4  Достойный телефон. Пользоваться одно удовольст...       5"
      ]
     },
     "execution_count": 124,
     "metadata": {
      "tags": []
     },
     "output_type": "execute_result"
    }
   ],
   "source": [
    "df_full.head(5)"
   ]
  },
  {
   "cell_type": "code",
   "execution_count": null,
   "metadata": {
    "colab": {
     "base_uri": "https://localhost:8080/"
    },
    "id": "VrCxMcQNnSiN",
    "outputId": "a1ef71a8-164e-4ae5-d24f-40821a3f5bf0"
   },
   "outputs": [
    {
     "data": {
      "text/plain": [
       "5    228517\n",
       "4    106568\n",
       "3     53091\n",
       "2     35724\n",
       "1     34529\n",
       "0         2\n",
       "9         1\n",
       "7         1\n",
       "Name: Rating, dtype: int64"
      ]
     },
     "execution_count": 125,
     "metadata": {
      "tags": []
     },
     "output_type": "execute_result"
    }
   ],
   "source": [
    "df_full['Rating'].value_counts()"
   ]
  },
  {
   "cell_type": "code",
   "execution_count": null,
   "metadata": {
    "id": "pcaV0npNn64o"
   },
   "outputs": [],
   "source": [
    "df_full = df_full.drop(df_full[df_full.Rating < 1].index)\n",
    "df_full = df_full.drop(df_full[df_full.Rating > 5].index)"
   ]
  },
  {
   "cell_type": "code",
   "execution_count": null,
   "metadata": {
    "colab": {
     "base_uri": "https://localhost:8080/"
    },
    "id": "7XMOxXHmn614",
    "outputId": "6df83c7e-3466-4732-8412-dd11c611b476"
   },
   "outputs": [
    {
     "data": {
      "text/plain": [
       "5    228517\n",
       "4    106568\n",
       "3     53091\n",
       "2     35724\n",
       "1     34529\n",
       "Name: Rating, dtype: int64"
      ]
     },
     "execution_count": 127,
     "metadata": {
      "tags": []
     },
     "output_type": "execute_result"
    }
   ],
   "source": [
    "df_full['Rating'].value_counts()"
   ]
  },
  {
   "cell_type": "code",
   "execution_count": null,
   "metadata": {
    "id": "5X3y5wRr6uxd"
   },
   "outputs": [],
   "source": [
    "df_extended = pd.read_csv('/content/drive/MyDrive/Sentiment model based on phones review/all_data.csv')"
   ]
  },
  {
   "cell_type": "code",
   "execution_count": null,
   "metadata": {
    "id": "l0go2iKi6uuO"
   },
   "outputs": [],
   "source": [
    "df_extended = df_extended.drop(columns=['date_time', 'color', 'size', 'thumb_up', 'thumb_down', 'prod', 'brand']).rename(columns={'comment':'Review', 'prod_eval':'Rating'})"
   ]
  },
  {
   "cell_type": "code",
   "execution_count": null,
   "metadata": {
    "colab": {
     "base_uri": "https://localhost:8080/",
     "height": 402
    },
    "id": "jFbKzkQG6uq_",
    "outputId": "766608a1-a258-4543-9a26-0c109cf2fa9e"
   },
   "outputs": [
    {
     "data": {
      "text/html": [
       "<div>\n",
       "<style scoped>\n",
       "    .dataframe tbody tr th:only-of-type {\n",
       "        vertical-align: middle;\n",
       "    }\n",
       "\n",
       "    .dataframe tbody tr th {\n",
       "        vertical-align: top;\n",
       "    }\n",
       "\n",
       "    .dataframe thead th {\n",
       "        text-align: right;\n",
       "    }\n",
       "</style>\n",
       "<table border=\"1\" class=\"dataframe\">\n",
       "  <thead>\n",
       "    <tr style=\"text-align: right;\">\n",
       "      <th></th>\n",
       "      <th>Review</th>\n",
       "      <th>Rating</th>\n",
       "    </tr>\n",
       "  </thead>\n",
       "  <tbody>\n",
       "    <tr>\n",
       "      <th>0</th>\n",
       "      <td>👍💣🔥 очень рада приобретению просто класс.</td>\n",
       "      <td>5</td>\n",
       "    </tr>\n",
       "    <tr>\n",
       "      <th>1</th>\n",
       "      <td>Покупала себе, теперь заказала маме в подарок....</td>\n",
       "      <td>5</td>\n",
       "    </tr>\n",
       "    <tr>\n",
       "      <th>2</th>\n",
       "      <td>Очень понравился дозатор. Быстро собрали, ниче...</td>\n",
       "      <td>5</td>\n",
       "    </tr>\n",
       "    <tr>\n",
       "      <th>3</th>\n",
       "      <td>Дозатор пришел целый. В комплекте было батарей...</td>\n",
       "      <td>5</td>\n",
       "    </tr>\n",
       "    <tr>\n",
       "      <th>4</th>\n",
       "      <td>Пользуемся давно, афигенный дозатор, все гости...</td>\n",
       "      <td>5</td>\n",
       "    </tr>\n",
       "    <tr>\n",
       "      <th>...</th>\n",
       "      <td>...</td>\n",
       "      <td>...</td>\n",
       "    </tr>\n",
       "    <tr>\n",
       "      <th>218554</th>\n",
       "      <td>Прочитав отзывы , заказала именно этот браслет...</td>\n",
       "      <td>3</td>\n",
       "    </tr>\n",
       "    <tr>\n",
       "      <th>218555</th>\n",
       "      <td>с фигурой мальчика ли придёт? Не путайте людей...</td>\n",
       "      <td>3</td>\n",
       "    </tr>\n",
       "    <tr>\n",
       "      <th>218556</th>\n",
       "      <td>Уважаемый магазин! Поймите, что люди, заказыва...</td>\n",
       "      <td>1</td>\n",
       "    </tr>\n",
       "    <tr>\n",
       "      <th>218557</th>\n",
       "      <td>У меня тоже самое . Заказывала 2 браслета с ма...</td>\n",
       "      <td>1</td>\n",
       "    </tr>\n",
       "    <tr>\n",
       "      <th>218558</th>\n",
       "      <td>Заказывала браслет с  мальчиком, привезли дево...</td>\n",
       "      <td>4</td>\n",
       "    </tr>\n",
       "  </tbody>\n",
       "</table>\n",
       "<p>218559 rows × 2 columns</p>\n",
       "</div>"
      ],
      "text/plain": [
       "                                                   Review  Rating\n",
       "0               👍💣🔥 очень рада приобретению просто класс.       5\n",
       "1       Покупала себе, теперь заказала маме в подарок....       5\n",
       "2       Очень понравился дозатор. Быстро собрали, ниче...       5\n",
       "3       Дозатор пришел целый. В комплекте было батарей...       5\n",
       "4       Пользуемся давно, афигенный дозатор, все гости...       5\n",
       "...                                                   ...     ...\n",
       "218554  Прочитав отзывы , заказала именно этот браслет...       3\n",
       "218555  с фигурой мальчика ли придёт? Не путайте людей...       3\n",
       "218556  Уважаемый магазин! Поймите, что люди, заказыва...       1\n",
       "218557  У меня тоже самое . Заказывала 2 браслета с ма...       1\n",
       "218558  Заказывала браслет с  мальчиком, привезли дево...       4\n",
       "\n",
       "[218559 rows x 2 columns]"
      ]
     },
     "execution_count": 130,
     "metadata": {
      "tags": []
     },
     "output_type": "execute_result"
    }
   ],
   "source": [
    "df_extended"
   ]
  },
  {
   "cell_type": "code",
   "execution_count": null,
   "metadata": {
    "colab": {
     "base_uri": "https://localhost:8080/"
    },
    "id": "IK06HnPB6un4",
    "outputId": "f3caec72-c5b5-466c-a412-ff64cddea24a"
   },
   "outputs": [
    {
     "data": {
      "text/plain": [
       "5    171131\n",
       "1     16022\n",
       "4     14504\n",
       "3     10650\n",
       "2      6252\n",
       "Name: Rating, dtype: int64"
      ]
     },
     "execution_count": 131,
     "metadata": {
      "tags": []
     },
     "output_type": "execute_result"
    }
   ],
   "source": [
    "df_extended['Rating'].value_counts()"
   ]
  },
  {
   "cell_type": "code",
   "execution_count": null,
   "metadata": {
    "colab": {
     "base_uri": "https://localhost:8080/",
     "height": 402
    },
    "id": "IubhFyTZnPVv",
    "outputId": "007d99db-bb9d-4ca0-c741-1d3990c349ac"
   },
   "outputs": [
    {
     "data": {
      "text/html": [
       "<div>\n",
       "<style scoped>\n",
       "    .dataframe tbody tr th:only-of-type {\n",
       "        vertical-align: middle;\n",
       "    }\n",
       "\n",
       "    .dataframe tbody tr th {\n",
       "        vertical-align: top;\n",
       "    }\n",
       "\n",
       "    .dataframe thead th {\n",
       "        text-align: right;\n",
       "    }\n",
       "</style>\n",
       "<table border=\"1\" class=\"dataframe\">\n",
       "  <thead>\n",
       "    <tr style=\"text-align: right;\">\n",
       "      <th></th>\n",
       "      <th>Review</th>\n",
       "      <th>Rating</th>\n",
       "    </tr>\n",
       "  </thead>\n",
       "  <tbody>\n",
       "    <tr>\n",
       "      <th>0</th>\n",
       "      <td>3D Touch просто восхитительная вещь! Заряд дер...</td>\n",
       "      <td>5</td>\n",
       "    </tr>\n",
       "    <tr>\n",
       "      <th>1</th>\n",
       "      <td>Отключается при температуре близкой к нулю, не...</td>\n",
       "      <td>4</td>\n",
       "    </tr>\n",
       "    <tr>\n",
       "      <th>2</th>\n",
       "      <td>В Apple окончательно решили не заморачиваться,...</td>\n",
       "      <td>3</td>\n",
       "    </tr>\n",
       "    <tr>\n",
       "      <th>3</th>\n",
       "      <td>Постарался наиболее ёмко и коротко описать все...</td>\n",
       "      <td>4</td>\n",
       "    </tr>\n",
       "    <tr>\n",
       "      <th>4</th>\n",
       "      <td>Достойный телефон. Пользоваться одно удовольст...</td>\n",
       "      <td>5</td>\n",
       "    </tr>\n",
       "    <tr>\n",
       "      <th>...</th>\n",
       "      <td>...</td>\n",
       "      <td>...</td>\n",
       "    </tr>\n",
       "    <tr>\n",
       "      <th>676983</th>\n",
       "      <td>Прочитав отзывы , заказала именно этот браслет...</td>\n",
       "      <td>3</td>\n",
       "    </tr>\n",
       "    <tr>\n",
       "      <th>676984</th>\n",
       "      <td>с фигурой мальчика ли придёт? Не путайте людей...</td>\n",
       "      <td>3</td>\n",
       "    </tr>\n",
       "    <tr>\n",
       "      <th>676985</th>\n",
       "      <td>Уважаемый магазин! Поймите, что люди, заказыва...</td>\n",
       "      <td>1</td>\n",
       "    </tr>\n",
       "    <tr>\n",
       "      <th>676986</th>\n",
       "      <td>У меня тоже самое . Заказывала 2 браслета с ма...</td>\n",
       "      <td>1</td>\n",
       "    </tr>\n",
       "    <tr>\n",
       "      <th>676987</th>\n",
       "      <td>Заказывала браслет с  мальчиком, привезли дево...</td>\n",
       "      <td>4</td>\n",
       "    </tr>\n",
       "  </tbody>\n",
       "</table>\n",
       "<p>676988 rows × 2 columns</p>\n",
       "</div>"
      ],
      "text/plain": [
       "                                                   Review  Rating\n",
       "0       3D Touch просто восхитительная вещь! Заряд дер...       5\n",
       "1       Отключается при температуре близкой к нулю, не...       4\n",
       "2       В Apple окончательно решили не заморачиваться,...       3\n",
       "3       Постарался наиболее ёмко и коротко описать все...       4\n",
       "4       Достойный телефон. Пользоваться одно удовольст...       5\n",
       "...                                                   ...     ...\n",
       "676983  Прочитав отзывы , заказала именно этот браслет...       3\n",
       "676984  с фигурой мальчика ли придёт? Не путайте людей...       3\n",
       "676985  Уважаемый магазин! Поймите, что люди, заказыва...       1\n",
       "676986  У меня тоже самое . Заказывала 2 браслета с ма...       1\n",
       "676987  Заказывала браслет с  мальчиком, привезли дево...       4\n",
       "\n",
       "[676988 rows x 2 columns]"
      ]
     },
     "execution_count": 132,
     "metadata": {
      "tags": []
     },
     "output_type": "execute_result"
    }
   ],
   "source": [
    "df = pd.concat([df_full, df_extended])\n",
    "df = df.reset_index().drop(columns='index')\n",
    "df"
   ]
  },
  {
   "cell_type": "code",
   "execution_count": null,
   "metadata": {
    "id": "qW_DSXhxh1Cw"
   },
   "outputs": [],
   "source": [
    "df['Review'] = df['Review'].astype('str')"
   ]
  },
  {
   "cell_type": "code",
   "execution_count": null,
   "metadata": {
    "id": "ok8U5IKbh1Cw"
   },
   "outputs": [],
   "source": [
    "df['Sentiment'] = np.where(df['Rating'] >= 4, 'Positive', 'Negative')"
   ]
  },
  {
   "cell_type": "code",
   "execution_count": null,
   "metadata": {
    "colab": {
     "base_uri": "https://localhost:8080/",
     "height": 402
    },
    "id": "LRmkygvCh1Cu",
    "outputId": "c6824506-70f1-42e0-b46d-3607cf5c2f4d"
   },
   "outputs": [
    {
     "data": {
      "text/html": [
       "<div>\n",
       "<style scoped>\n",
       "    .dataframe tbody tr th:only-of-type {\n",
       "        vertical-align: middle;\n",
       "    }\n",
       "\n",
       "    .dataframe tbody tr th {\n",
       "        vertical-align: top;\n",
       "    }\n",
       "\n",
       "    .dataframe thead th {\n",
       "        text-align: right;\n",
       "    }\n",
       "</style>\n",
       "<table border=\"1\" class=\"dataframe\">\n",
       "  <thead>\n",
       "    <tr style=\"text-align: right;\">\n",
       "      <th></th>\n",
       "      <th>Review</th>\n",
       "      <th>Rating</th>\n",
       "      <th>Sentiment</th>\n",
       "      <th>sentiment_encoded</th>\n",
       "    </tr>\n",
       "  </thead>\n",
       "  <tbody>\n",
       "    <tr>\n",
       "      <th>0</th>\n",
       "      <td>3D Touch просто восхитительная вещь! Заряд дер...</td>\n",
       "      <td>5</td>\n",
       "      <td>Positive</td>\n",
       "      <td>1</td>\n",
       "    </tr>\n",
       "    <tr>\n",
       "      <th>1</th>\n",
       "      <td>Отключается при температуре близкой к нулю, не...</td>\n",
       "      <td>4</td>\n",
       "      <td>Positive</td>\n",
       "      <td>1</td>\n",
       "    </tr>\n",
       "    <tr>\n",
       "      <th>2</th>\n",
       "      <td>В Apple окончательно решили не заморачиваться,...</td>\n",
       "      <td>3</td>\n",
       "      <td>Negative</td>\n",
       "      <td>0</td>\n",
       "    </tr>\n",
       "    <tr>\n",
       "      <th>3</th>\n",
       "      <td>Постарался наиболее ёмко и коротко описать все...</td>\n",
       "      <td>4</td>\n",
       "      <td>Positive</td>\n",
       "      <td>1</td>\n",
       "    </tr>\n",
       "    <tr>\n",
       "      <th>4</th>\n",
       "      <td>Достойный телефон. Пользоваться одно удовольст...</td>\n",
       "      <td>5</td>\n",
       "      <td>Positive</td>\n",
       "      <td>1</td>\n",
       "    </tr>\n",
       "    <tr>\n",
       "      <th>...</th>\n",
       "      <td>...</td>\n",
       "      <td>...</td>\n",
       "      <td>...</td>\n",
       "      <td>...</td>\n",
       "    </tr>\n",
       "    <tr>\n",
       "      <th>676983</th>\n",
       "      <td>Прочитав отзывы , заказала именно этот браслет...</td>\n",
       "      <td>3</td>\n",
       "      <td>Negative</td>\n",
       "      <td>0</td>\n",
       "    </tr>\n",
       "    <tr>\n",
       "      <th>676984</th>\n",
       "      <td>с фигурой мальчика ли придёт? Не путайте людей...</td>\n",
       "      <td>3</td>\n",
       "      <td>Negative</td>\n",
       "      <td>0</td>\n",
       "    </tr>\n",
       "    <tr>\n",
       "      <th>676985</th>\n",
       "      <td>Уважаемый магазин! Поймите, что люди, заказыва...</td>\n",
       "      <td>1</td>\n",
       "      <td>Negative</td>\n",
       "      <td>0</td>\n",
       "    </tr>\n",
       "    <tr>\n",
       "      <th>676986</th>\n",
       "      <td>У меня тоже самое . Заказывала 2 браслета с ма...</td>\n",
       "      <td>1</td>\n",
       "      <td>Negative</td>\n",
       "      <td>0</td>\n",
       "    </tr>\n",
       "    <tr>\n",
       "      <th>676987</th>\n",
       "      <td>Заказывала браслет с  мальчиком, привезли дево...</td>\n",
       "      <td>4</td>\n",
       "      <td>Positive</td>\n",
       "      <td>1</td>\n",
       "    </tr>\n",
       "  </tbody>\n",
       "</table>\n",
       "<p>676988 rows × 4 columns</p>\n",
       "</div>"
      ],
      "text/plain": [
       "                                                   Review  ...  sentiment_encoded\n",
       "0       3D Touch просто восхитительная вещь! Заряд дер...  ...                  1\n",
       "1       Отключается при температуре близкой к нулю, не...  ...                  1\n",
       "2       В Apple окончательно решили не заморачиваться,...  ...                  0\n",
       "3       Постарался наиболее ёмко и коротко описать все...  ...                  1\n",
       "4       Достойный телефон. Пользоваться одно удовольст...  ...                  1\n",
       "...                                                   ...  ...                ...\n",
       "676983  Прочитав отзывы , заказала именно этот браслет...  ...                  0\n",
       "676984  с фигурой мальчика ли придёт? Не путайте людей...  ...                  0\n",
       "676985  Уважаемый магазин! Поймите, что люди, заказыва...  ...                  0\n",
       "676986  У меня тоже самое . Заказывала 2 браслета с ма...  ...                  0\n",
       "676987  Заказывала браслет с  мальчиком, привезли дево...  ...                  1\n",
       "\n",
       "[676988 rows x 4 columns]"
      ]
     },
     "execution_count": 135,
     "metadata": {
      "tags": []
     },
     "output_type": "execute_result"
    }
   ],
   "source": [
    "from sklearn.preprocessing import LabelEncoder\n",
    "le = LabelEncoder()\n",
    "df['sentiment_encoded'] = le.fit_transform(df['Sentiment'])\n",
    "df"
   ]
  },
  {
   "cell_type": "code",
   "execution_count": null,
   "metadata": {
    "id": "V3fY5YQY4Bz9"
   },
   "outputs": [],
   "source": [
    "df_wo_dup = df.drop_duplicates().reset_index().drop('index', axis = 1)"
   ]
  },
  {
   "cell_type": "code",
   "execution_count": null,
   "metadata": {
    "colab": {
     "base_uri": "https://localhost:8080/",
     "height": 402
    },
    "id": "8eFEbMjv4BxJ",
    "outputId": "3e8e07a4-b518-4ac2-bf77-fe8307057e44"
   },
   "outputs": [
    {
     "data": {
      "text/html": [
       "<div>\n",
       "<style scoped>\n",
       "    .dataframe tbody tr th:only-of-type {\n",
       "        vertical-align: middle;\n",
       "    }\n",
       "\n",
       "    .dataframe tbody tr th {\n",
       "        vertical-align: top;\n",
       "    }\n",
       "\n",
       "    .dataframe thead th {\n",
       "        text-align: right;\n",
       "    }\n",
       "</style>\n",
       "<table border=\"1\" class=\"dataframe\">\n",
       "  <thead>\n",
       "    <tr style=\"text-align: right;\">\n",
       "      <th></th>\n",
       "      <th>Review</th>\n",
       "      <th>Rating</th>\n",
       "      <th>Sentiment</th>\n",
       "      <th>sentiment_encoded</th>\n",
       "    </tr>\n",
       "  </thead>\n",
       "  <tbody>\n",
       "    <tr>\n",
       "      <th>0</th>\n",
       "      <td>3D Touch просто восхитительная вещь! Заряд дер...</td>\n",
       "      <td>5</td>\n",
       "      <td>Positive</td>\n",
       "      <td>1</td>\n",
       "    </tr>\n",
       "    <tr>\n",
       "      <th>1</th>\n",
       "      <td>Отключается при температуре близкой к нулю, не...</td>\n",
       "      <td>4</td>\n",
       "      <td>Positive</td>\n",
       "      <td>1</td>\n",
       "    </tr>\n",
       "    <tr>\n",
       "      <th>2</th>\n",
       "      <td>В Apple окончательно решили не заморачиваться,...</td>\n",
       "      <td>3</td>\n",
       "      <td>Negative</td>\n",
       "      <td>0</td>\n",
       "    </tr>\n",
       "    <tr>\n",
       "      <th>3</th>\n",
       "      <td>Постарался наиболее ёмко и коротко описать все...</td>\n",
       "      <td>4</td>\n",
       "      <td>Positive</td>\n",
       "      <td>1</td>\n",
       "    </tr>\n",
       "    <tr>\n",
       "      <th>4</th>\n",
       "      <td>Достойный телефон. Пользоваться одно удовольст...</td>\n",
       "      <td>5</td>\n",
       "      <td>Positive</td>\n",
       "      <td>1</td>\n",
       "    </tr>\n",
       "    <tr>\n",
       "      <th>...</th>\n",
       "      <td>...</td>\n",
       "      <td>...</td>\n",
       "      <td>...</td>\n",
       "      <td>...</td>\n",
       "    </tr>\n",
       "    <tr>\n",
       "      <th>510920</th>\n",
       "      <td>Прочитав отзывы , заказала именно этот браслет...</td>\n",
       "      <td>3</td>\n",
       "      <td>Negative</td>\n",
       "      <td>0</td>\n",
       "    </tr>\n",
       "    <tr>\n",
       "      <th>510921</th>\n",
       "      <td>с фигурой мальчика ли придёт? Не путайте людей...</td>\n",
       "      <td>3</td>\n",
       "      <td>Negative</td>\n",
       "      <td>0</td>\n",
       "    </tr>\n",
       "    <tr>\n",
       "      <th>510922</th>\n",
       "      <td>Уважаемый магазин! Поймите, что люди, заказыва...</td>\n",
       "      <td>1</td>\n",
       "      <td>Negative</td>\n",
       "      <td>0</td>\n",
       "    </tr>\n",
       "    <tr>\n",
       "      <th>510923</th>\n",
       "      <td>У меня тоже самое . Заказывала 2 браслета с ма...</td>\n",
       "      <td>1</td>\n",
       "      <td>Negative</td>\n",
       "      <td>0</td>\n",
       "    </tr>\n",
       "    <tr>\n",
       "      <th>510924</th>\n",
       "      <td>Заказывала браслет с  мальчиком, привезли дево...</td>\n",
       "      <td>4</td>\n",
       "      <td>Positive</td>\n",
       "      <td>1</td>\n",
       "    </tr>\n",
       "  </tbody>\n",
       "</table>\n",
       "<p>510925 rows × 4 columns</p>\n",
       "</div>"
      ],
      "text/plain": [
       "                                                   Review  ...  sentiment_encoded\n",
       "0       3D Touch просто восхитительная вещь! Заряд дер...  ...                  1\n",
       "1       Отключается при температуре близкой к нулю, не...  ...                  1\n",
       "2       В Apple окончательно решили не заморачиваться,...  ...                  0\n",
       "3       Постарался наиболее ёмко и коротко описать все...  ...                  1\n",
       "4       Достойный телефон. Пользоваться одно удовольст...  ...                  1\n",
       "...                                                   ...  ...                ...\n",
       "510920  Прочитав отзывы , заказала именно этот браслет...  ...                  0\n",
       "510921  с фигурой мальчика ли придёт? Не путайте людей...  ...                  0\n",
       "510922  Уважаемый магазин! Поймите, что люди, заказыва...  ...                  0\n",
       "510923  У меня тоже самое . Заказывала 2 браслета с ма...  ...                  0\n",
       "510924  Заказывала браслет с  мальчиком, привезли дево...  ...                  1\n",
       "\n",
       "[510925 rows x 4 columns]"
      ]
     },
     "execution_count": 137,
     "metadata": {
      "tags": []
     },
     "output_type": "execute_result"
    }
   ],
   "source": [
    "df_wo_dup"
   ]
  },
  {
   "cell_type": "code",
   "execution_count": null,
   "metadata": {
    "colab": {
     "base_uri": "https://localhost:8080/"
    },
    "id": "VxIKLl_-XQgp",
    "outputId": "8b5d719a-68d3-4479-d7dc-d0b6fcfdc54f"
   },
   "outputs": [
    {
     "data": {
      "text/plain": [
       "Positive    395855\n",
       "Negative    115070\n",
       "Name: Sentiment, dtype: int64"
      ]
     },
     "execution_count": 138,
     "metadata": {
      "tags": []
     },
     "output_type": "execute_result"
    }
   ],
   "source": [
    "df_wo_dup['Sentiment'].value_counts()"
   ]
  },
  {
   "cell_type": "code",
   "execution_count": null,
   "metadata": {
    "colab": {
     "base_uri": "https://localhost:8080/"
    },
    "id": "GSvhHgnjZDiJ",
    "outputId": "e1ed1622-3bbb-412f-b3b0-b67456550997"
   },
   "outputs": [
    {
     "name": "stdout",
     "output_type": "stream",
     "text": [
      "(510925, 4)\n"
     ]
    },
    {
     "data": {
      "text/plain": [
       "0    3D Touch просто восхитительная вещь! Заряд дер...\n",
       "1    Отключается при температуре близкой к нулю, не...\n",
       "2    В Apple окончательно решили не заморачиваться,...\n",
       "Name: Review, dtype: object"
      ]
     },
     "execution_count": 139,
     "metadata": {
      "tags": []
     },
     "output_type": "execute_result"
    }
   ],
   "source": [
    "text = df_wo_dup['Review']\n",
    "print(df_wo_dup.shape)\n",
    "text.head(3)"
   ]
  },
  {
   "cell_type": "code",
   "execution_count": null,
   "metadata": {
    "id": "idza2K5JlcCl"
   },
   "outputs": [],
   "source": [
    "wn_lemmatizer = WordNetLemmatizer()"
   ]
  },
  {
   "cell_type": "code",
   "execution_count": null,
   "metadata": {
    "colab": {
     "base_uri": "https://localhost:8080/"
    },
    "id": "6QSA9yhwljOm",
    "outputId": "a58f0ab3-ea30-424e-b755-b8d92dde1c59"
   },
   "outputs": [
    {
     "name": "stdout",
     "output_type": "stream",
     "text": [
      "[nltk_data] Downloading package wordnet to /root/nltk_data...\n",
      "[nltk_data]   Package wordnet is already up-to-date!\n"
     ]
    },
    {
     "data": {
      "text/plain": [
       "True"
      ]
     },
     "execution_count": 141,
     "metadata": {
      "tags": []
     },
     "output_type": "execute_result"
    }
   ],
   "source": [
    "nltk.download('wordnet')"
   ]
  },
  {
   "cell_type": "code",
   "execution_count": null,
   "metadata": {
    "id": "-fygKjVrlk_j"
   },
   "outputs": [],
   "source": [
    "lemmatized_text = []\n",
    "for review in text:\n",
    "    lemmatized_text.append(' '.join([wn_lemmatizer.lemmatize(word) for word in review.split()]))"
   ]
  },
  {
   "cell_type": "code",
   "execution_count": null,
   "metadata": {
    "colab": {
     "base_uri": "https://localhost:8080/"
    },
    "id": "y0HKIQ59lsc2",
    "outputId": "360fffd6-e9b9-4de2-a0ea-b6cc5b4a3934"
   },
   "outputs": [
    {
     "name": "stdout",
     "output_type": "stream",
     "text": [
      "[nltk_data] Downloading package punkt to /root/nltk_data...\n",
      "[nltk_data]   Package punkt is already up-to-date!\n"
     ]
    },
    {
     "data": {
      "text/plain": [
       "True"
      ]
     },
     "execution_count": 143,
     "metadata": {
      "tags": []
     },
     "output_type": "execute_result"
    }
   ],
   "source": [
    "nltk.download('punkt')"
   ]
  },
  {
   "cell_type": "code",
   "execution_count": null,
   "metadata": {
    "id": "nKw9ief8lu5k"
   },
   "outputs": [],
   "source": [
    "for i in range(len(lemmatized_text)):\n",
    "  lemmatized_text[i] = word_tokenize(lemmatized_text[i])"
   ]
  },
  {
   "cell_type": "code",
   "execution_count": null,
   "metadata": {
    "colab": {
     "base_uri": "https://localhost:8080/"
    },
    "id": "Hq2MFxEFlwhA",
    "outputId": "e1bdf1c8-a522-4e97-f78f-86663e5228ce"
   },
   "outputs": [
    {
     "data": {
      "text/plain": [
       "510925"
      ]
     },
     "execution_count": 145,
     "metadata": {
      "tags": []
     },
     "output_type": "execute_result"
    }
   ],
   "source": [
    "len(lemmatized_text)"
   ]
  },
  {
   "cell_type": "code",
   "execution_count": null,
   "metadata": {
    "colab": {
     "base_uri": "https://localhost:8080/"
    },
    "id": "QrvRfQ6SlyAG",
    "outputId": "19846ff9-0f3d-40f4-8143-c1279f9be5db"
   },
   "outputs": [
    {
     "name": "stdout",
     "output_type": "stream",
     "text": [
      "0 2000 4000 6000 8000 10000 12000 14000 16000 18000 20000 22000 24000 26000 28000 30000 32000 34000 36000 38000 40000 42000 44000 46000 48000 50000 52000 54000 56000 58000 60000 62000 64000 66000 68000 70000 72000 74000 76000 78000 80000 82000 84000 86000 88000 90000 92000 94000 96000 98000 100000 102000 104000 106000 108000 110000 112000 114000 116000 118000 120000 122000 124000 126000 128000 130000 132000 134000 136000 138000 140000 142000 144000 146000 148000 150000 152000 154000 156000 158000 160000 162000 164000 166000 168000 170000 172000 174000 176000 178000 180000 182000 184000 186000 188000 190000 192000 194000 196000 198000 200000 202000 204000 206000 208000 210000 212000 214000 216000 218000 220000 222000 224000 226000 228000 230000 232000 234000 236000 238000 240000 242000 244000 246000 248000 250000 252000 254000 256000 258000 260000 262000 264000 266000 268000 270000 272000 274000 276000 278000 280000 282000 284000 286000 288000 290000 292000 294000 296000 298000 300000 302000 304000 306000 308000 310000 312000 314000 316000 318000 320000 322000 324000 326000 328000 330000 332000 334000 336000 338000 340000 342000 344000 346000 348000 350000 352000 354000 356000 358000 360000 362000 364000 366000 368000 370000 372000 374000 376000 378000 380000 382000 384000 386000 388000 390000 392000 394000 396000 398000 400000 402000 404000 406000 408000 410000 412000 414000 416000 418000 420000 422000 424000 426000 428000 430000 432000 434000 436000 438000 440000 442000 444000 446000 448000 450000 452000 454000 456000 458000 460000 462000 464000 466000 468000 470000 472000 474000 476000 478000 480000 482000 484000 486000 488000 490000 492000 494000 496000 498000 500000 502000 504000 506000 508000 510000 "
     ]
    }
   ],
   "source": [
    "clean_tokenized_review = [] \n",
    "for i, element in enumerate(lemmatized_text):\n",
    "    if i % 2000 == 0: print(i, end = ' ')\n",
    "    clean_tokenized_review.append(' '.join([word for word in element]))"
   ]
  },
  {
   "cell_type": "code",
   "execution_count": null,
   "metadata": {
    "colab": {
     "base_uri": "https://localhost:8080/"
    },
    "id": "HACdb8hZl1It",
    "outputId": "ce3d9f15-a8a9-4d1d-80b4-8715c35e65f3"
   },
   "outputs": [
    {
     "data": {
      "text/plain": [
       "0         3D Touch просто восхитительная вещь ! Заряд де...\n",
       "1         Отключается при температуре близкой к нулю , н...\n",
       "2         В Apple окончательно решили не заморачиваться ...\n",
       "3         Постарался наиболее ёмко и коротко описать все...\n",
       "4         Достойный телефон . Пользоваться одно удовольс...\n",
       "                                ...                        \n",
       "510920    Прочитав отзывы , заказала именно этот браслет...\n",
       "510921    с фигурой мальчика ли придёт ? Не путайте люде...\n",
       "510922    Уважаемый магазин ! Поймите , что люди , заказ...\n",
       "510923    У меня тоже самое . Заказывала 2 браслета с ма...\n",
       "510924    Заказывала браслет с мальчиком , привезли дево...\n",
       "Length: 510925, dtype: object"
      ]
     },
     "execution_count": 147,
     "metadata": {
      "tags": []
     },
     "output_type": "execute_result"
    }
   ],
   "source": [
    "new_review = pd.Series(clean_tokenized_review)\n",
    "new_review"
   ]
  },
  {
   "cell_type": "code",
   "execution_count": null,
   "metadata": {
    "id": "JHS18YUyl4OV"
   },
   "outputs": [],
   "source": [
    "df_cleaned = pd.concat([new_review, df_wo_dup.sentiment_encoded], axis=1)"
   ]
  },
  {
   "cell_type": "code",
   "execution_count": null,
   "metadata": {
    "colab": {
     "base_uri": "https://localhost:8080/",
     "height": 402
    },
    "id": "mPnJqzg_l-Lm",
    "outputId": "8b03aa2f-0e9f-44c7-e6e4-7baf30892d1c"
   },
   "outputs": [
    {
     "data": {
      "text/html": [
       "<div>\n",
       "<style scoped>\n",
       "    .dataframe tbody tr th:only-of-type {\n",
       "        vertical-align: middle;\n",
       "    }\n",
       "\n",
       "    .dataframe tbody tr th {\n",
       "        vertical-align: top;\n",
       "    }\n",
       "\n",
       "    .dataframe thead th {\n",
       "        text-align: right;\n",
       "    }\n",
       "</style>\n",
       "<table border=\"1\" class=\"dataframe\">\n",
       "  <thead>\n",
       "    <tr style=\"text-align: right;\">\n",
       "      <th></th>\n",
       "      <th>Review</th>\n",
       "      <th>Sentiment</th>\n",
       "    </tr>\n",
       "  </thead>\n",
       "  <tbody>\n",
       "    <tr>\n",
       "      <th>0</th>\n",
       "      <td>3D Touch просто восхитительная вещь ! Заряд де...</td>\n",
       "      <td>1</td>\n",
       "    </tr>\n",
       "    <tr>\n",
       "      <th>1</th>\n",
       "      <td>Отключается при температуре близкой к нулю , н...</td>\n",
       "      <td>1</td>\n",
       "    </tr>\n",
       "    <tr>\n",
       "      <th>2</th>\n",
       "      <td>В Apple окончательно решили не заморачиваться ...</td>\n",
       "      <td>0</td>\n",
       "    </tr>\n",
       "    <tr>\n",
       "      <th>3</th>\n",
       "      <td>Постарался наиболее ёмко и коротко описать все...</td>\n",
       "      <td>1</td>\n",
       "    </tr>\n",
       "    <tr>\n",
       "      <th>4</th>\n",
       "      <td>Достойный телефон . Пользоваться одно удовольс...</td>\n",
       "      <td>1</td>\n",
       "    </tr>\n",
       "    <tr>\n",
       "      <th>...</th>\n",
       "      <td>...</td>\n",
       "      <td>...</td>\n",
       "    </tr>\n",
       "    <tr>\n",
       "      <th>510920</th>\n",
       "      <td>Прочитав отзывы , заказала именно этот браслет...</td>\n",
       "      <td>0</td>\n",
       "    </tr>\n",
       "    <tr>\n",
       "      <th>510921</th>\n",
       "      <td>с фигурой мальчика ли придёт ? Не путайте люде...</td>\n",
       "      <td>0</td>\n",
       "    </tr>\n",
       "    <tr>\n",
       "      <th>510922</th>\n",
       "      <td>Уважаемый магазин ! Поймите , что люди , заказ...</td>\n",
       "      <td>0</td>\n",
       "    </tr>\n",
       "    <tr>\n",
       "      <th>510923</th>\n",
       "      <td>У меня тоже самое . Заказывала 2 браслета с ма...</td>\n",
       "      <td>0</td>\n",
       "    </tr>\n",
       "    <tr>\n",
       "      <th>510924</th>\n",
       "      <td>Заказывала браслет с мальчиком , привезли дево...</td>\n",
       "      <td>1</td>\n",
       "    </tr>\n",
       "  </tbody>\n",
       "</table>\n",
       "<p>510925 rows × 2 columns</p>\n",
       "</div>"
      ],
      "text/plain": [
       "                                                   Review  Sentiment\n",
       "0       3D Touch просто восхитительная вещь ! Заряд де...          1\n",
       "1       Отключается при температуре близкой к нулю , н...          1\n",
       "2       В Apple окончательно решили не заморачиваться ...          0\n",
       "3       Постарался наиболее ёмко и коротко описать все...          1\n",
       "4       Достойный телефон . Пользоваться одно удовольс...          1\n",
       "...                                                   ...        ...\n",
       "510920  Прочитав отзывы , заказала именно этот браслет...          0\n",
       "510921  с фигурой мальчика ли придёт ? Не путайте люде...          0\n",
       "510922  Уважаемый магазин ! Поймите , что люди , заказ...          0\n",
       "510923  У меня тоже самое . Заказывала 2 браслета с ма...          0\n",
       "510924  Заказывала браслет с мальчиком , привезли дево...          1\n",
       "\n",
       "[510925 rows x 2 columns]"
      ]
     },
     "execution_count": 149,
     "metadata": {
      "tags": []
     },
     "output_type": "execute_result"
    }
   ],
   "source": [
    "df_cleaned_renamed = df_cleaned.rename(columns={0:'Review', 'sentiment_encoded':'Sentiment'})\n",
    "df_cleaned_renamed"
   ]
  },
  {
   "cell_type": "code",
   "execution_count": null,
   "metadata": {
    "id": "V_lRrjJ6mBCB"
   },
   "outputs": [],
   "source": [
    "from sklearn.model_selection import train_test_split\n",
    "\n",
    "import tensorflow_datasets as tfds\n",
    "import tensorflow as tf\n",
    "\n",
    "tfds.disable_progress_bar()"
   ]
  },
  {
   "cell_type": "code",
   "execution_count": null,
   "metadata": {
    "id": "bkvxf91xmFRB"
   },
   "outputs": [],
   "source": [
    "import matplotlib.pyplot as plt\n",
    "\n",
    "\n",
    "def plot_graphs(history, metric):\n",
    "  plt.plot(history.history[metric])\n",
    "  plt.plot(history.history['val_'+metric], '')\n",
    "  plt.xlabel(\"Epochs\")\n",
    "  plt.ylabel(metric)\n",
    "  plt.legend([metric, 'val_'+metric])"
   ]
  },
  {
   "cell_type": "code",
   "execution_count": null,
   "metadata": {
    "id": "DKY69_symJZu"
   },
   "outputs": [],
   "source": [
    "x_train, x_valid, y_train, y_valid = train_test_split(df_cleaned_renamed.Review, df_cleaned_renamed.Sentiment, test_size = 0.15)"
   ]
  },
  {
   "cell_type": "code",
   "execution_count": null,
   "metadata": {
    "id": "YS2nawyzmLWW"
   },
   "outputs": [],
   "source": [
    "BATCH_SIZE = 64"
   ]
  },
  {
   "cell_type": "code",
   "execution_count": null,
   "metadata": {
    "id": "UTPAbHgUmMpb"
   },
   "outputs": [],
   "source": [
    "VOCAB_SIZE = 30000\n",
    "encoder = tf.keras.layers.experimental.preprocessing.TextVectorization(max_tokens=VOCAB_SIZE)\n",
    "encoder.adapt(x_train.values)"
   ]
  },
  {
   "cell_type": "code",
   "execution_count": null,
   "metadata": {
    "id": "vJOViYtQmN5n"
   },
   "outputs": [],
   "source": [
    "vocab = np.array(encoder.get_vocabulary())"
   ]
  },
  {
   "cell_type": "code",
   "execution_count": null,
   "metadata": {
    "id": "vVvQ1RprmPLF"
   },
   "outputs": [],
   "source": [
    "model = tf.keras.Sequential([\n",
    "    encoder,\n",
    "    tf.keras.layers.Embedding(\n",
    "        input_dim=len(encoder.get_vocabulary()),\n",
    "        output_dim=64,\n",
    "        mask_zero=True),\n",
    "    tf.keras.layers.Bidirectional(tf.keras.layers.LSTM(64, return_sequences=True)),\n",
    "    tf.keras.layers.Bidirectional(tf.keras.layers.LSTM(64, )),\n",
    "    tf.keras.layers.Dense(64, activation='relu'),\n",
    "\n",
    "    #Output layer\n",
    "    tf.keras.layers.Dense(1, activation='sigmoid')\n",
    "])"
   ]
  },
  {
   "cell_type": "code",
   "execution_count": null,
   "metadata": {
    "id": "CaQNXj3zRUXM"
   },
   "outputs": [],
   "source": [
    "from keras import backend as K\n",
    "\n",
    "def recall_m(y_true, y_pred):\n",
    "    true_positives = K.sum(K.round(K.clip(y_true * y_pred, 0, 1)))\n",
    "    possible_positives = K.sum(K.round(K.clip(y_true, 0, 1)))\n",
    "    recall = true_positives / (possible_positives + K.epsilon())\n",
    "    return recall\n",
    "\n",
    "def precision_m(y_true, y_pred):\n",
    "    true_positives = K.sum(K.round(K.clip(y_true * y_pred, 0, 1)))\n",
    "    predicted_positives = K.sum(K.round(K.clip(y_pred, 0, 1)))\n",
    "    precision = true_positives / (predicted_positives + K.epsilon())\n",
    "    return precision\n",
    "\n",
    "def f1_m(y_true, y_pred):\n",
    "    precision = precision_m(y_true, y_pred)\n",
    "    recall = recall_m(y_true, y_pred)\n",
    "    return 2*((precision*recall)/(precision+recall+K.epsilon()))"
   ]
  },
  {
   "cell_type": "code",
   "execution_count": null,
   "metadata": {
    "id": "K4_1lCbImSWq"
   },
   "outputs": [],
   "source": [
    "model.compile(loss=tf.keras.losses.BinaryCrossentropy(),\n",
    "              optimizer=tf.keras.optimizers.Adam(0.001),\n",
    "              metrics=['accuracy', tf.keras.metrics.BinaryAccuracy(), \n",
    "                       f1_m, recall_m, precision_m\n",
    "                       ])"
   ]
  },
  {
   "cell_type": "code",
   "execution_count": null,
   "metadata": {
    "colab": {
     "base_uri": "https://localhost:8080/"
    },
    "id": "3TguEzHLmU8a",
    "outputId": "9c28666b-2f11-4556-b8b4-a2614b90fc94"
   },
   "outputs": [
    {
     "name": "stdout",
     "output_type": "stream",
     "text": [
      "Epoch 1/2\n",
      "13572/13572 [==============================] - 1360s 100ms/step - loss: 0.1161 - accuracy: 0.9555 - binary_accuracy: 0.9555 - f1_m: 0.9708 - recall_m: 0.9744 - precision_m: 0.9683 - val_loss: 0.2498 - val_accuracy: 0.9102 - val_binary_accuracy: 0.9102 - val_f1_m: 0.9410 - val_recall_m: 0.9432 - val_precision_m: 0.9411\n",
      "Epoch 2/2\n",
      "13572/13572 [==============================] - 1328s 98ms/step - loss: 0.0842 - accuracy: 0.9682 - binary_accuracy: 0.9682 - f1_m: 0.9791 - recall_m: 0.9816 - precision_m: 0.9775 - val_loss: 0.2710 - val_accuracy: 0.9094 - val_binary_accuracy: 0.9094 - val_f1_m: 0.9406 - val_recall_m: 0.9435 - val_precision_m: 0.9398\n"
     ]
    }
   ],
   "source": [
    "history = model.fit(x=x_train, y=y_train, validation_data=(x_valid, y_valid), epochs=2)"
   ]
  },
  {
   "cell_type": "code",
   "execution_count": null,
   "metadata": {
    "colab": {
     "base_uri": "https://localhost:8080/",
     "height": 388
    },
    "id": "vcFNDZkyml9D",
    "outputId": "e667b70b-dd13-4773-fc7d-b7c1db2bfdac"
   },
   "outputs": [
    {
     "data": {
      "image/png": "[encoded data removed]",
      "text/plain": [
       "<Figure size 1152x432 with 4 Axes>"
      ]
     },
     "metadata": {
      "needs_background": "light",
      "tags": []
     },
     "output_type": "display_data"
    }
   ],
   "source": [
    "plt.figure(figsize=(16, 6))\n",
    "plt.subplot(1, 4, 1)\n",
    "plot_graphs(history, 'accuracy')\n",
    "plt.subplot(1, 4, 2)\n",
    "plot_graphs(history, 'loss')\n",
    "plt.subplot(1, 4, 3)\n",
    "plot_graphs(history, 'binary_accuracy')\n",
    "plt.subplot(1, 4, 4)\n",
    "plot_graphs(history, 'f1_m')"
   ]
  },
  {
   "cell_type": "code",
   "execution_count": null,
   "metadata": {
    "colab": {
     "base_uri": "https://localhost:8080/"
    },
    "id": "BZdvWNjXmXKQ",
    "outputId": "be0c888a-d82a-4aa7-be27-9176bb85e086"
   },
   "outputs": [
    {
     "name": "stderr",
     "output_type": "stream",
     "text": [
      "WARNING:absl:Found untraced functions such as lstm_cell_19_layer_call_and_return_conditional_losses, lstm_cell_19_layer_call_fn, lstm_cell_20_layer_call_and_return_conditional_losses, lstm_cell_20_layer_call_fn, lstm_cell_22_layer_call_and_return_conditional_losses while saving (showing 5 of 20). These functions will not be directly callable after loading.\n",
      "WARNING:absl:Found untraced functions such as lstm_cell_19_layer_call_and_return_conditional_losses, lstm_cell_19_layer_call_fn, lstm_cell_20_layer_call_and_return_conditional_losses, lstm_cell_20_layer_call_fn, lstm_cell_22_layer_call_and_return_conditional_losses while saving (showing 5 of 20). These functions will not be directly callable after loading.\n"
     ]
    },
    {
     "name": "stdout",
     "output_type": "stream",
     "text": [
      "INFO:tensorflow:Assets written to: /content/drive/MyDrive/Sentiment model based on phones review/Model_full_extended_final/assets\n"
     ]
    },
    {
     "name": "stderr",
     "output_type": "stream",
     "text": [
      "INFO:tensorflow:Assets written to: /content/drive/MyDrive/Sentiment model based on phones review/Model_full_extended_final/assets\n"
     ]
    }
   ],
   "source": [
    "model.save('/content/drive/MyDrive/Sentiment model based on phones review/Model_full_extended_final')"
   ]
  }
 ],
 "metadata": {
  "accelerator": "GPU",
  "colab": {
   "collapsed_sections": [],
   "name": "Sentiment model_full_extended.ipynb",
   "provenance": []
  },
  "kernelspec": {
   "display_name": "Python 3",
   "language": "python",
   "name": "python3"
  },
  "language_info": {
   "codemirror_mode": {
    "name": "ipython",
    "version": 3
   },
   "file_extension": ".py",
   "mimetype": "text/x-python",
   "name": "python",
   "nbconvert_exporter": "python",
   "pygments_lexer": "ipython3",
   "version": "3.8.5"
  }
 },
 "nbformat": 4,
 "nbformat_minor": 1
}
